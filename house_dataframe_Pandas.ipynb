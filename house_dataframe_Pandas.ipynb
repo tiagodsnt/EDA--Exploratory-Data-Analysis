{
  "nbformat": 4,
  "nbformat_minor": 0,
  "metadata": {
    "colab": {
      "name": "house_dataframe_Pandas.ipynb",
      "provenance": [],
      "collapsed_sections": [],
      "authorship_tag": "ABX9TyMaxidpfW1POtloUhWuRyqs",
      "include_colab_link": true
    },
    "kernelspec": {
      "name": "python3",
      "display_name": "Python 3"
    },
    "language_info": {
      "name": "python"
    }
  },
  "cells": [
    {
      "cell_type": "markdown",
      "metadata": {
        "id": "view-in-github",
        "colab_type": "text"
      },
      "source": [
        "<a href=\"https://colab.research.google.com/github/tiagodsnt/EDA--Exploratory-Data-Analysis/blob/main/house_dataframe_Pandas.ipynb\" target=\"_parent\"><img src=\"https://colab.research.google.com/assets/colab-badge.svg\" alt=\"Open In Colab\"/></a>"
      ]
    },
    {
      "cell_type": "markdown",
      "metadata": {
        "id": "-ZYEU4_PVymw"
      },
      "source": [
        "# Análise de Dados de imóveis com Pandas"
      ]
    },
    {
      "cell_type": "code",
      "metadata": {
        "id": "H1JpUFgqpuej"
      },
      "source": [
        "# Importando o Pandas \n",
        "import pandas as pd"
      ],
      "execution_count": 5,
      "outputs": []
    },
    {
      "cell_type": "code",
      "metadata": {
        "id": "fS7Sl31ircr7"
      },
      "source": [
        "# Referênciando uma base de dados (upload do arquivo no menu lateral)\n",
        "arquivo = 'kc_house_data.csv'"
      ],
      "execution_count": 6,
      "outputs": []
    },
    {
      "cell_type": "code",
      "metadata": {
        "id": "06A3Wcmyrirb"
      },
      "source": [
        "# Abrindo o arquivo .csv \n",
        "# arquivo: define o path do arquivo .csv\n",
        "# sep=',': define o separador entre os dados\n",
        "# header:  define em qual linha estão as colunas (none: não há colunas)\n",
        "# nrows: define quantas linhas do arquivo .csv serão carregadas na memória. Útil.: memória (arquivos grandes) \n",
        "dataset = pd.read_csv(arquivo, sep=',', header=0, nrows= 50)"
      ],
      "execution_count": 7,
      "outputs": []
    },
    {
      "cell_type": "code",
      "metadata": {
        "colab": {
          "base_uri": "https://localhost:8080/"
        },
        "id": "RPmNUzfwsCpt",
        "outputId": "356a1f19-d8fe-44b2-9a52-517a53972b2d"
      },
      "source": [
        "# Mostra o tipe de variável do DataFrame\n",
        "type(dataset)"
      ],
      "execution_count": 8,
      "outputs": [
        {
          "output_type": "execute_result",
          "data": {
            "text/plain": [
              "pandas.core.frame.DataFrame"
            ]
          },
          "metadata": {
            "tags": []
          },
          "execution_count": 8
        }
      ]
    },
    {
      "cell_type": "code",
      "metadata": {
        "colab": {
          "base_uri": "https://localhost:8080/",
          "height": 0
        },
        "id": "sbMzJMdau8fZ",
        "outputId": "d10a31f5-3624-4eed-c056-22e8f22bd634"
      },
      "source": [
        "# Mostra as 5 primeiras linhas do DataFrame\n",
        "dataset.head()"
      ],
      "execution_count": 9,
      "outputs": [
        {
          "output_type": "execute_result",
          "data": {
            "text/html": [
              "<div>\n",
              "<style scoped>\n",
              "    .dataframe tbody tr th:only-of-type {\n",
              "        vertical-align: middle;\n",
              "    }\n",
              "\n",
              "    .dataframe tbody tr th {\n",
              "        vertical-align: top;\n",
              "    }\n",
              "\n",
              "    .dataframe thead th {\n",
              "        text-align: right;\n",
              "    }\n",
              "</style>\n",
              "<table border=\"1\" class=\"dataframe\">\n",
              "  <thead>\n",
              "    <tr style=\"text-align: right;\">\n",
              "      <th></th>\n",
              "      <th>id</th>\n",
              "      <th>date</th>\n",
              "      <th>price</th>\n",
              "      <th>bedrooms</th>\n",
              "      <th>bathrooms</th>\n",
              "      <th>sqft_living</th>\n",
              "      <th>sqft_lot</th>\n",
              "      <th>floors</th>\n",
              "      <th>waterfront</th>\n",
              "      <th>view</th>\n",
              "      <th>condition</th>\n",
              "      <th>grade</th>\n",
              "      <th>sqft_above</th>\n",
              "      <th>sqft_basement</th>\n",
              "      <th>yr_built</th>\n",
              "      <th>yr_renovated</th>\n",
              "      <th>zipcode</th>\n",
              "      <th>lat</th>\n",
              "      <th>long</th>\n",
              "      <th>sqft_living15</th>\n",
              "      <th>sqft_lot15</th>\n",
              "    </tr>\n",
              "  </thead>\n",
              "  <tbody>\n",
              "    <tr>\n",
              "      <th>0</th>\n",
              "      <td>7129300520</td>\n",
              "      <td>20141013T000000</td>\n",
              "      <td>221900.0</td>\n",
              "      <td>3</td>\n",
              "      <td>1.00</td>\n",
              "      <td>1180</td>\n",
              "      <td>5650</td>\n",
              "      <td>1.0</td>\n",
              "      <td>0</td>\n",
              "      <td>0</td>\n",
              "      <td>3</td>\n",
              "      <td>7</td>\n",
              "      <td>1180.0</td>\n",
              "      <td>0</td>\n",
              "      <td>1955</td>\n",
              "      <td>0</td>\n",
              "      <td>98178</td>\n",
              "      <td>47.5112</td>\n",
              "      <td>-122.257</td>\n",
              "      <td>1340</td>\n",
              "      <td>5650</td>\n",
              "    </tr>\n",
              "    <tr>\n",
              "      <th>1</th>\n",
              "      <td>6414100192</td>\n",
              "      <td>20141209T000000</td>\n",
              "      <td>538000.0</td>\n",
              "      <td>3</td>\n",
              "      <td>2.25</td>\n",
              "      <td>2570</td>\n",
              "      <td>7242</td>\n",
              "      <td>2.0</td>\n",
              "      <td>0</td>\n",
              "      <td>0</td>\n",
              "      <td>3</td>\n",
              "      <td>7</td>\n",
              "      <td>2170.0</td>\n",
              "      <td>400</td>\n",
              "      <td>1951</td>\n",
              "      <td>1991</td>\n",
              "      <td>98125</td>\n",
              "      <td>47.7210</td>\n",
              "      <td>-122.319</td>\n",
              "      <td>1690</td>\n",
              "      <td>7639</td>\n",
              "    </tr>\n",
              "    <tr>\n",
              "      <th>2</th>\n",
              "      <td>5631500400</td>\n",
              "      <td>20150225T000000</td>\n",
              "      <td>180000.0</td>\n",
              "      <td>2</td>\n",
              "      <td>1.00</td>\n",
              "      <td>770</td>\n",
              "      <td>10000</td>\n",
              "      <td>1.0</td>\n",
              "      <td>0</td>\n",
              "      <td>0</td>\n",
              "      <td>3</td>\n",
              "      <td>6</td>\n",
              "      <td>770.0</td>\n",
              "      <td>0</td>\n",
              "      <td>1933</td>\n",
              "      <td>0</td>\n",
              "      <td>98028</td>\n",
              "      <td>47.7379</td>\n",
              "      <td>-122.233</td>\n",
              "      <td>2720</td>\n",
              "      <td>8062</td>\n",
              "    </tr>\n",
              "    <tr>\n",
              "      <th>3</th>\n",
              "      <td>2487200875</td>\n",
              "      <td>20141209T000000</td>\n",
              "      <td>604000.0</td>\n",
              "      <td>4</td>\n",
              "      <td>3.00</td>\n",
              "      <td>1960</td>\n",
              "      <td>5000</td>\n",
              "      <td>1.0</td>\n",
              "      <td>0</td>\n",
              "      <td>0</td>\n",
              "      <td>5</td>\n",
              "      <td>7</td>\n",
              "      <td>1050.0</td>\n",
              "      <td>910</td>\n",
              "      <td>1965</td>\n",
              "      <td>0</td>\n",
              "      <td>98136</td>\n",
              "      <td>47.5208</td>\n",
              "      <td>-122.393</td>\n",
              "      <td>1360</td>\n",
              "      <td>5000</td>\n",
              "    </tr>\n",
              "    <tr>\n",
              "      <th>4</th>\n",
              "      <td>1954400510</td>\n",
              "      <td>20150218T000000</td>\n",
              "      <td>510000.0</td>\n",
              "      <td>3</td>\n",
              "      <td>2.00</td>\n",
              "      <td>1680</td>\n",
              "      <td>8080</td>\n",
              "      <td>1.0</td>\n",
              "      <td>0</td>\n",
              "      <td>0</td>\n",
              "      <td>3</td>\n",
              "      <td>8</td>\n",
              "      <td>1680.0</td>\n",
              "      <td>0</td>\n",
              "      <td>1987</td>\n",
              "      <td>0</td>\n",
              "      <td>98074</td>\n",
              "      <td>47.6168</td>\n",
              "      <td>-122.045</td>\n",
              "      <td>1800</td>\n",
              "      <td>7503</td>\n",
              "    </tr>\n",
              "  </tbody>\n",
              "</table>\n",
              "</div>"
            ],
            "text/plain": [
              "           id             date     price  ...     long  sqft_living15  sqft_lot15\n",
              "0  7129300520  20141013T000000  221900.0  ... -122.257           1340        5650\n",
              "1  6414100192  20141209T000000  538000.0  ... -122.319           1690        7639\n",
              "2  5631500400  20150225T000000  180000.0  ... -122.233           2720        8062\n",
              "3  2487200875  20141209T000000  604000.0  ... -122.393           1360        5000\n",
              "4  1954400510  20150218T000000  510000.0  ... -122.045           1800        7503\n",
              "\n",
              "[5 rows x 21 columns]"
            ]
          },
          "metadata": {
            "tags": []
          },
          "execution_count": 9
        }
      ]
    },
    {
      "cell_type": "code",
      "metadata": {
        "colab": {
          "base_uri": "https://localhost:8080/"
        },
        "id": "r3FK7OsSHzOT",
        "outputId": "497f8199-0b3c-4bae-ff6f-8d0cfb37c73a"
      },
      "source": [
        "# Comando direto do terminal para ler as 5 primeiras linhas do arquivo\n",
        "# Útil para descobrir qual o separador (sep=',') entre os dados do arquivo\n",
        "!head -n 5 kc_house_data.csv"
      ],
      "execution_count": 10,
      "outputs": [
        {
          "output_type": "stream",
          "text": [
            "\"id\",\"date\",\"price\",\"bedrooms\",\"bathrooms\",\"sqft_living\",\"sqft_lot\",\"floors\",\"waterfront\",\"view\",\"condition\",\"grade\",\"sqft_above\",\"sqft_basement\",\"yr_built\",\"yr_renovated\",\"zipcode\",\"lat\",\"long\",\"sqft_living15\",\"sqft_lot15\"\n",
            "7129300520,\"20141013T000000\",221900,3,1,1180,5650,1,0,0,3,7,1180,0,1955,0,98178,47.5112,-122.257,1340,5650\n",
            "6414100192,\"20141209T000000\",538000,3,2.25,2570,7242,2,0,0,3,7,2170,400,1951,1991,98125,47.721,-122.319,1690,7639\n",
            "5631500400,\"20150225T000000\",180000,2,1,770,10000,1,0,0,3,6,770,0,1933,0,98028,47.7379,-122.233,2720,8062\n",
            "2487200875,\"20141209T000000\",604000,4,3,1960,5000,1,0,0,5,7,1050,910,1965,0,98136,47.5208,-122.393,1360,5000\n"
          ],
          "name": "stdout"
        }
      ]
    },
    {
      "cell_type": "code",
      "metadata": {
        "id": "cZV6UEubQvsz",
        "outputId": "85b735f5-fbb8-4037-d7fe-3d831352f9ad",
        "colab": {
          "base_uri": "https://localhost:8080/"
        }
      },
      "source": [
        "dataset.info()"
      ],
      "execution_count": 11,
      "outputs": [
        {
          "output_type": "stream",
          "text": [
            "<class 'pandas.core.frame.DataFrame'>\n",
            "RangeIndex: 50 entries, 0 to 49\n",
            "Data columns (total 21 columns):\n",
            " #   Column         Non-Null Count  Dtype  \n",
            "---  ------         --------------  -----  \n",
            " 0   id             50 non-null     int64  \n",
            " 1   date           50 non-null     object \n",
            " 2   price          50 non-null     float64\n",
            " 3   bedrooms       50 non-null     int64  \n",
            " 4   bathrooms      50 non-null     float64\n",
            " 5   sqft_living    50 non-null     int64  \n",
            " 6   sqft_lot       50 non-null     int64  \n",
            " 7   floors         50 non-null     float64\n",
            " 8   waterfront     50 non-null     int64  \n",
            " 9   view           50 non-null     int64  \n",
            " 10  condition      50 non-null     int64  \n",
            " 11  grade          50 non-null     int64  \n",
            " 12  sqft_above     48 non-null     float64\n",
            " 13  sqft_basement  50 non-null     int64  \n",
            " 14  yr_built       50 non-null     int64  \n",
            " 15  yr_renovated   50 non-null     int64  \n",
            " 16  zipcode        50 non-null     int64  \n",
            " 17  lat            50 non-null     float64\n",
            " 18  long           50 non-null     float64\n",
            " 19  sqft_living15  50 non-null     int64  \n",
            " 20  sqft_lot15     50 non-null     int64  \n",
            "dtypes: float64(6), int64(14), object(1)\n",
            "memory usage: 8.3+ KB\n"
          ],
          "name": "stdout"
        }
      ]
    },
    {
      "cell_type": "markdown",
      "metadata": {
        "id": "DeO-913TWMyp"
      },
      "source": [
        "# Classificando a área de estar em pequeno, medio e grande (coluna sqft_livin)"
      ]
    },
    {
      "cell_type": "code",
      "metadata": {
        "id": "fsXVHHFeQ5TT",
        "outputId": "7bf83471-2420-4f9a-ecbc-d4f91dca055f",
        "colab": {
          "base_uri": "https://localhost:8080/"
        }
      },
      "source": [
        "# Pegando uma amostra dos 50 primeiros imóveis\n",
        "dataset['sqft_living'].head(50)"
      ],
      "execution_count": 12,
      "outputs": [
        {
          "output_type": "execute_result",
          "data": {
            "text/plain": [
              "0     1180\n",
              "1     2570\n",
              "2      770\n",
              "3     1960\n",
              "4     1680\n",
              "5     5420\n",
              "6     1715\n",
              "7     1060\n",
              "8     1780\n",
              "9     1890\n",
              "10    3560\n",
              "11    1160\n",
              "12    1430\n",
              "13    1370\n",
              "14    1810\n",
              "15    2950\n",
              "16    1890\n",
              "17    1600\n",
              "18    1200\n",
              "19    1250\n",
              "20    1620\n",
              "21    3050\n",
              "22    2270\n",
              "23    1070\n",
              "24    2450\n",
              "25    1710\n",
              "26    2450\n",
              "27    1400\n",
              "28    1520\n",
              "29    2570\n",
              "30    2320\n",
              "31    1190\n",
              "32    2330\n",
              "33    1090\n",
              "34    2060\n",
              "35    2300\n",
              "36    1660\n",
              "37    2360\n",
              "38    1220\n",
              "39    2620\n",
              "40    2570\n",
              "41    4220\n",
              "42    3595\n",
              "43    1570\n",
              "44    1280\n",
              "45    3160\n",
              "46     990\n",
              "47    2290\n",
              "48    1250\n",
              "49    2753\n",
              "Name: sqft_living, dtype: int64"
            ]
          },
          "metadata": {
            "tags": []
          },
          "execution_count": 12
        }
      ]
    },
    {
      "cell_type": "code",
      "metadata": {
        "id": "TKo0XX-HUE5S",
        "outputId": "b2655030-eb18-4e13-8f2f-394e818910c4",
        "colab": {
          "base_uri": "https://localhost:8080/"
        }
      },
      "source": [
        "# Retirando algumas informações da amostra \n",
        "dataset['sqft_living'].describe()"
      ],
      "execution_count": 13,
      "outputs": [
        {
          "output_type": "execute_result",
          "data": {
            "text/plain": [
              "count      50.00000\n",
              "mean     2023.66000\n",
              "std       905.51901\n",
              "min       770.00000\n",
              "25%      1302.50000\n",
              "50%      1795.00000\n",
              "75%      2450.00000\n",
              "max      5420.00000\n",
              "Name: sqft_living, dtype: float64"
            ]
          },
          "metadata": {
            "tags": []
          },
          "execution_count": 13
        }
      ]
    },
    {
      "cell_type": "code",
      "metadata": {
        "id": "6__GTZUmeMN2"
      },
      "source": [
        "# Definindo limites arbitrários para o tamanho da área de estar\n",
        "tamanho_medio = (dataset['sqft_living'].mean())*1.2\n",
        "tamanho_pequeno = (dataset['sqft_living'].mean())*0.5"
      ],
      "execution_count": 14,
      "outputs": []
    },
    {
      "cell_type": "code",
      "metadata": {
        "id": "xWh-Yc0ue09c"
      },
      "source": [
        "# Função Processamento de Dados\n",
        "def categoriza(s):\n",
        "  if s > tamanho_medio:\n",
        "    return 'Big'\n",
        "  else:\n",
        "    if s > tamanho_pequeno:\n",
        "      return 'Medium'\n",
        "    else:\n",
        "        return 'Small' "
      ],
      "execution_count": 15,
      "outputs": []
    },
    {
      "cell_type": "code",
      "metadata": {
        "id": "G2VEP1acgYFf"
      },
      "source": [
        "dataset['size'] = dataset['sqft_living'].apply(categoriza)"
      ],
      "execution_count": 16,
      "outputs": []
    },
    {
      "cell_type": "code",
      "metadata": {
        "id": "UUbY63irhj3S",
        "outputId": "17ce6877-26b2-4864-b285-dd7a982f906b",
        "colab": {
          "base_uri": "https://localhost:8080/"
        }
      },
      "source": [
        "dataset['size'].value_counts()"
      ],
      "execution_count": 18,
      "outputs": [
        {
          "output_type": "execute_result",
          "data": {
            "text/plain": [
              "Medium    34\n",
              "Big       14\n",
              "Small      2\n",
              "Name: size, dtype: int64"
            ]
          },
          "metadata": {
            "tags": []
          },
          "execution_count": 18
        }
      ]
    }
  ]
}