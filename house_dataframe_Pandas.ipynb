{
  "nbformat": 4,
  "nbformat_minor": 0,
  "metadata": {
    "colab": {
      "name": "house_dataframe_Pandas.ipynb",
      "provenance": [],
      "collapsed_sections": [],
      "authorship_tag": "ABX9TyNQ0npy+R0OqQvH85X/kzNj",
      "include_colab_link": true
    },
    "kernelspec": {
      "name": "python3",
      "display_name": "Python 3"
    },
    "language_info": {
      "name": "python"
    }
  },
  "cells": [
    {
      "cell_type": "markdown",
      "metadata": {
        "id": "view-in-github",
        "colab_type": "text"
      },
      "source": [
        "<a href=\"https://colab.research.google.com/github/tiagodsnt/Real-State-Data-Analysis/blob/main1.1/house_dataframe_Pandas.ipynb\" target=\"_parent\"><img src=\"https://colab.research.google.com/assets/colab-badge.svg\" alt=\"Open In Colab\"/></a>"
      ]
    },
    {
      "cell_type": "markdown",
      "metadata": {
        "id": "-ZYEU4_PVymw"
      },
      "source": [
        "# Real State Data Analysis with Pandas \n",
        "Análise de Dados de imóveis com Pandas"
      ]
    },
    {
      "cell_type": "code",
      "metadata": {
        "id": "H1JpUFgqpuej"
      },
      "source": [
        "# Importing Pandas (Importando o Pandas) \n",
        "import pandas as pd"
      ],
      "execution_count": 21,
      "outputs": []
    },
    {
      "cell_type": "code",
      "metadata": {
        "id": "fS7Sl31ircr7"
      },
      "source": [
        "# Referênciando uma base de dados (upload do arquivo no menu lateral)\n",
        "arquivo = 'kc_house_data.csv'"
      ],
      "execution_count": 22,
      "outputs": []
    },
    {
      "cell_type": "code",
      "metadata": {
        "colab": {
          "base_uri": "https://localhost:8080/"
        },
        "id": "r3FK7OsSHzOT",
        "outputId": "c247b942-b17c-45d3-db2c-aa995c46dbca"
      },
      "source": [
        "# Comando direto do terminal para ler as 5 primeiras linhas do arquivo\n",
        "# Útil para descobrir qual o separador (sep=',') entre os dados do arquivo\n",
        "!head -n 5 kc_house_data.csv"
      ],
      "execution_count": 23,
      "outputs": [
        {
          "output_type": "stream",
          "text": [
            "\"id\",\"date\",\"price\",\"bedrooms\",\"bathrooms\",\"sqft_living\",\"sqft_lot\",\"floors\",\"waterfront\",\"view\",\"condition\",\"grade\",\"sqft_above\",\"sqft_basement\",\"yr_built\",\"yr_renovated\",\"zipcode\",\"lat\",\"long\",\"sqft_living15\",\"sqft_lot15\"\n",
            "7129300520,\"20141013T000000\",221900,3,1,1180,5650,1,0,0,3,7,1180,0,1955,0,98178,47.5112,-122.257,1340,5650\n",
            "6414100192,\"20141209T000000\",538000,3,2.25,2570,7242,2,0,0,3,7,2170,400,1951,1991,98125,47.721,-122.319,1690,7639\n",
            "5631500400,\"20150225T000000\",180000,2,1,770,10000,1,0,0,3,6,770,0,1933,0,98028,47.7379,-122.233,2720,8062\n",
            "2487200875,\"20141209T000000\",604000,4,3,1960,5000,1,0,0,5,7,1050,910,1965,0,98136,47.5208,-122.393,1360,5000\n"
          ],
          "name": "stdout"
        }
      ]
    },
    {
      "cell_type": "code",
      "metadata": {
        "id": "06A3Wcmyrirb"
      },
      "source": [
        "# Abrindo o arquivo .csv, limitado em 15 linhas \n",
        "dataset = pd.read_csv(arquivo, nrows=15)"
      ],
      "execution_count": 24,
      "outputs": []
    },
    {
      "cell_type": "code",
      "metadata": {
        "id": "UsMeTGOo0WOb"
      },
      "source": [
        "# Selecionando somento as colunas que irão ser necessárias no projeto, para poupar memória\n",
        "dataset = pd.read_csv(arquivo, usecols=['id','price','bedrooms','bathrooms','sqft_living'])"
      ],
      "execution_count": 26,
      "outputs": []
    },
    {
      "cell_type": "code",
      "metadata": {
        "colab": {
          "base_uri": "https://localhost:8080/"
        },
        "id": "cZV6UEubQvsz",
        "outputId": "6e654c2c-e63d-4ba8-cc13-f0b8bf902eae"
      },
      "source": [
        "# Info sobre o dataset de trabalho\n",
        "dataset.info()"
      ],
      "execution_count": 27,
      "outputs": [
        {
          "output_type": "stream",
          "text": [
            "<class 'pandas.core.frame.DataFrame'>\n",
            "RangeIndex: 21613 entries, 0 to 21612\n",
            "Data columns (total 5 columns):\n",
            " #   Column       Non-Null Count  Dtype  \n",
            "---  ------       --------------  -----  \n",
            " 0   id           21613 non-null  int64  \n",
            " 1   price        21613 non-null  float64\n",
            " 2   bedrooms     21613 non-null  int64  \n",
            " 3   bathrooms    21613 non-null  float64\n",
            " 4   sqft_living  21613 non-null  int64  \n",
            "dtypes: float64(2), int64(3)\n",
            "memory usage: 844.4 KB\n"
          ],
          "name": "stdout"
        }
      ]
    },
    {
      "cell_type": "markdown",
      "metadata": {
        "id": "D3XPwvu2QLgV"
      },
      "source": [
        "# Classifying square living in big, medium and small [column sqft_livin]\n",
        "Classificando a 'área de estar' em pequeno, normal e grande [coluna sqft_livin]"
      ]
    },
    {
      "cell_type": "code",
      "metadata": {
        "id": "fsXVHHFeQ5TT"
      },
      "source": [
        "# Pegando uma amostra dos 50 primeiros imóveis\n",
        "#dataset['sqft_living'].head(50)"
      ],
      "execution_count": null,
      "outputs": []
    },
    {
      "cell_type": "code",
      "metadata": {
        "id": "TKo0XX-HUE5S"
      },
      "source": [
        "# Estatística descritiva da base\n",
        "dataset['sqft_living'].describe()"
      ],
      "execution_count": null,
      "outputs": []
    },
    {
      "cell_type": "code",
      "metadata": {
        "id": "6__GTZUmeMN2"
      },
      "source": [
        "# Definindo o tamanho da área de estar a partir dos quantis 75% e 25%\n",
        "tamanho_medio = dataset['sqft_living'].quantile(0.7)\n",
        "tamanho_pequeno = dataset['sqft_living'].quantile(0.2)"
      ],
      "execution_count": null,
      "outputs": []
    },
    {
      "cell_type": "code",
      "metadata": {
        "id": "xWh-Yc0ue09c"
      },
      "source": [
        "# Função Processamento de Dados\n",
        "def categoriza(s):\n",
        "  if s > tamanho_medio:\n",
        "    return 'Big'\n",
        "  else:\n",
        "    if s > tamanho_pequeno:\n",
        "      return 'Normal'\n",
        "    else:\n",
        "        return 'Small' "
      ],
      "execution_count": null,
      "outputs": []
    },
    {
      "cell_type": "code",
      "metadata": {
        "id": "G2VEP1acgYFf"
      },
      "source": [
        "# Criando nova coluna 'size', que recebe o retorno da função categoriza aplicada a coluna 'sqft_living'\n",
        "dataset['size'] = dataset['sqft_living'].apply(categoriza)"
      ],
      "execution_count": null,
      "outputs": []
    },
    {
      "cell_type": "code",
      "metadata": {
        "id": "UUbY63irhj3S"
      },
      "source": [
        "# Contagem de frequências dos tamanhos na coluna 'size'. Variavel cont recebe as frequências\n",
        "cont = dataset['size'].value_counts()"
      ],
      "execution_count": null,
      "outputs": []
    },
    {
      "cell_type": "code",
      "metadata": {
        "id": "P2IlfkRIbGVt"
      },
      "source": [
        "# Plotando gráfico tipo barra\n",
        "cont.plot.bar()"
      ],
      "execution_count": null,
      "outputs": []
    },
    {
      "cell_type": "markdown",
      "metadata": {
        "id": "akDqzw2JQksc"
      },
      "source": [
        "# Histogram Bedrooms vs Bathrooms\n",
        "Histograma Quartos vs Banheiros"
      ]
    },
    {
      "cell_type": "code",
      "metadata": {
        "id": "aobjTM_5SYKp"
      },
      "source": [
        "import matplotlib.pyplot as plt\n",
        "value1 = dataset['bedrooms']\n",
        "plt.hist(value1 , bins=30, alpha= 0.5,) \n",
        "plt.show()\n",
        "\n",
        "#%matplotlib notebook\n",
        "#dataset[['bedrooms','bathrooms']].hist(bins=30, alpha=0.5)"
      ],
      "execution_count": 67,
      "outputs": []
    }
  ]
}